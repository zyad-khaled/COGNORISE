{
 "cells": [
  {
   "cell_type": "code",
   "execution_count": 1,
   "metadata": {},
   "outputs": [],
   "source": [
    "import pandas as pd \n",
    "import numpy as np \n",
    "import matplotlib.pyplot as plt"
   ]
  },
  {
   "cell_type": "code",
   "execution_count": 9,
   "metadata": {},
   "outputs": [],
   "source": [
    "unemployment = pd.read_csv(\"C:\\\\Users\\\\Al-arab\\\\Desktop\\\\COGNORISE\\\\Unemployment in India.csv\")\n",
    "unemploymentrate = pd.read_csv(\"C:\\\\Users\\\\Al-arab\\\\Desktop\\\\COGNORISE\\\\Unemployment_Rate_upto_11_2020.csv\")"
   ]
  },
  {
   "cell_type": "code",
   "execution_count": null,
   "metadata": {},
   "outputs": [],
   "source": [
    "unemploymentrate.head()\n",
    "unemploymentrate.describe()\n",
    "unemploymentrate.tail(3)"
   ]
  },
  {
   "cell_type": "code",
   "execution_count": null,
   "metadata": {},
   "outputs": [],
   "source": [
    "unemployment.head()\n",
    "unemployment.describe()\n",
    "unemployment.tail(3)"
   ]
  },
  {
   "cell_type": "code",
   "execution_count": 43,
   "metadata": {},
   "outputs": [
    {
     "data": {
      "text/plain": [
       "0"
      ]
     },
     "execution_count": 43,
     "metadata": {},
     "output_type": "execute_result"
    }
   ],
   "source": [
    "unemploymentrate.isna().sum().sum()\n",
    "unemploymentrate.dropna(inplace=True)\n",
    "unemploymentrate.size\n",
    "unemploymentrate.duplicated().sum()"
   ]
  },
  {
   "cell_type": "code",
   "execution_count": 21,
   "metadata": {},
   "outputs": [
    {
     "data": {
      "text/plain": [
       "0"
      ]
     },
     "execution_count": 21,
     "metadata": {},
     "output_type": "execute_result"
    }
   ],
   "source": [
    "unemployment.isna().sum().sum()\n",
    "unemployment.dropna(inplace=True)\n",
    "unemployment.size\n",
    "unemployment.duplicated().sum()"
   ]
  },
  {
   "cell_type": "code",
   "execution_count": null,
   "metadata": {},
   "outputs": [],
   "source": [
    "unemployment.info()\n",
    "unemployment[\" Date\"] = pd.to_datetime(unemployment[\" Date\"])\n",
    "unemployment['Year'] = unemployment[' Date'].dt.strftime('%Y')"
   ]
  },
  {
   "cell_type": "code",
   "execution_count": null,
   "metadata": {},
   "outputs": [],
   "source": [
    "unemployment.columns"
   ]
  },
  {
   "cell_type": "markdown",
   "metadata": {},
   "source": [
    "1- by knowing the percentage of Estimated Unemployment Rate (%)\twe can know the percentage of Estimated Employed rate\n",
    "2- we can know number of Estimated Unemployment \n",
    "3- as we know that Estimated Labour Participation Rate (%) = labour force participation rate by dividing the number of people actively participating in the labour force by the total number of people eligible to participate in the labor force force we can know Estimated Labour unParticipation Rate (%)\n",
    "4- we can get some different regions and comparing and find graph of "
   ]
  },
  {
   "cell_type": "code",
   "execution_count": 37,
   "metadata": {},
   "outputs": [],
   "source": [
    "unemployment[\"Estimated Labour unParticipation Rate (%)\"] = 100 - unemployment[\" Estimated Labour Participation Rate (%)\"]"
   ]
  },
  {
   "cell_type": "code",
   "execution_count": 35,
   "metadata": {},
   "outputs": [],
   "source": [
    "# by knowing the percentage of Estimated Unemployment Rate (%)\twe can know the percentage of Estimated Employed rate\n",
    "unemployment[\"Estimated Employed rate\"] = 100 - unemployment[\" Estimated Unemployment Rate (%)\"]"
   ]
  },
  {
   "cell_type": "code",
   "execution_count": null,
   "metadata": {},
   "outputs": [],
   "source": [
    "# we can know number of Estimated Unemployment\n",
    "unemployment[\"Estimated unemployed\"] = unemployment[\" Estimated Employed\"] / unemployment['Estimated Employed rate'] * unemployment[\" Estimated Unemployment Rate (%)\"]\n",
    "unemployment[\"Estimated unemployed\"] = unemployment[\"Estimated unemployed\"].astype(int)"
   ]
  },
  {
   "cell_type": "code",
   "execution_count": 53,
   "metadata": {},
   "outputs": [
    {
     "data": {
      "text/plain": [
       "Index(['Region', ' Date', ' Frequency', ' Estimated Unemployment Rate (%)',\n",
       "       ' Estimated Employed', ' Estimated Labour Participation Rate (%)',\n",
       "       'Area', 'Estimated Employed rate', 'Estimated unemployed',\n",
       "       'Estimated Labour unParticipation Rate (%)', 'Year'],\n",
       "      dtype='object')"
      ]
     },
     "execution_count": 53,
     "metadata": {},
     "output_type": "execute_result"
    }
   ],
   "source": [
    "unemployment.columns"
   ]
  },
  {
   "cell_type": "code",
   "execution_count": 52,
   "metadata": {},
   "outputs": [
    {
     "data": {
      "text/plain": [
       "<pandas.core.groupby.generic.DataFrameGroupBy object at 0x0000021483B08D60>"
      ]
     },
     "execution_count": 52,
     "metadata": {},
     "output_type": "execute_result"
    }
   ],
   "source": [
    "unemployment.groupby(unemployment[\"Year\"])[\"u\"]"
   ]
  },
  {
   "cell_type": "code",
   "execution_count": null,
   "metadata": {},
   "outputs": [],
   "source": []
  }
 ],
 "metadata": {
  "kernelspec": {
   "display_name": "Python 3",
   "language": "python",
   "name": "python3"
  },
  "language_info": {
   "codemirror_mode": {
    "name": "ipython",
    "version": 3
   },
   "file_extension": ".py",
   "mimetype": "text/x-python",
   "name": "python",
   "nbconvert_exporter": "python",
   "pygments_lexer": "ipython3",
   "version": "3.10.11"
  }
 },
 "nbformat": 4,
 "nbformat_minor": 2
}
